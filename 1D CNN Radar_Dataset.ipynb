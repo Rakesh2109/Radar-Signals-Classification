{
  "nbformat": 4,
  "nbformat_minor": 0,
  "metadata": {
    "colab": {
      "provenance": [],
      "collapsed_sections": []
    },
    "kernelspec": {
      "name": "python3",
      "display_name": "Python 3"
    },
    "language_info": {
      "name": "python"
    },
    "accelerator": "GPU",
    "gpuClass": "standard"
  },
  "cells": [
    {
      "cell_type": "code",
      "execution_count": null,
      "metadata": {
        "id": "W1NZx14u_bWh"
      },
      "outputs": [],
      "source": [
        "import pandas as pd\n",
        "import numpy as np\n",
        "import cv2\n",
        "import os\n",
        "import matplotlib.pyplot as plt\n",
        "import seaborn as sns\n",
        "\n",
        "import tensorflow as tf\n",
        "from tensorflow import keras\n",
        "\n",
        "from sklearn.model_selection import train_test_split\n",
        "from sklearn import svm\n",
        "\n",
        "from sklearn import metrics \n",
        "from sklearn.metrics import classification_report\n",
        "\n",
        "from tensorflow.keras import layers, models\n",
        "from keras.layers import InputLayer, Activation, merge, Concatenate,Input\n",
        "from keras.utils.vis_utils import plot_model\n",
        "from sklearn.model_selection import KFold"
      ]
    },
    {
      "cell_type": "code",
      "source": [
        "from tensorflow.python.client import  device_lib\n",
        "device_lib.list_local_devices()"
      ],
      "metadata": {
        "colab": {
          "base_uri": "https://localhost:8080/"
        },
        "id": "FXuO_6pu_iX6",
        "outputId": "ac5067a7-ad81-4218-df13-1400c50cdb8b"
      },
      "execution_count": null,
      "outputs": [
        {
          "output_type": "execute_result",
          "data": {
            "text/plain": [
              "[name: \"/device:CPU:0\"\n",
              " device_type: \"CPU\"\n",
              " memory_limit: 268435456\n",
              " locality {\n",
              " }\n",
              " incarnation: 5956540202941966033\n",
              " xla_global_id: -1, name: \"/device:GPU:0\"\n",
              " device_type: \"GPU\"\n",
              " memory_limit: 14444920832\n",
              " locality {\n",
              "   bus_id: 1\n",
              "   links {\n",
              "   }\n",
              " }\n",
              " incarnation: 3809315434963626145\n",
              " physical_device_desc: \"device: 0, name: Tesla T4, pci bus id: 0000:00:04.0, compute capability: 7.5\"\n",
              " xla_global_id: 416903419]"
            ]
          },
          "metadata": {},
          "execution_count": 2
        }
      ]
    },
    {
      "cell_type": "code",
      "source": [
        "from google.colab import drive\n",
        "drive.mount('/content/drive')"
      ],
      "metadata": {
        "id": "q3-WOp3QAPhl",
        "colab": {
          "base_uri": "https://localhost:8080/"
        },
        "outputId": "0ed485aa-6fa6-42d1-d13b-269108430322"
      },
      "execution_count": null,
      "outputs": [
        {
          "output_type": "stream",
          "name": "stdout",
          "text": [
            "Drive already mounted at /content/drive; to attempt to forcibly remount, call drive.mount(\"/content/drive\", force_remount=True).\n"
          ]
        }
      ]
    },
    {
      "cell_type": "code",
      "source": [
        "import h5py\n",
        " \n",
        "DATA_DIR = \"/content/drive/MyDrive/Radar/Radar_5000.mat\"\n",
        " \n",
        "data = h5py.File(DATA_DIR,'r')\n",
        " \n",
        "data.keys()"
      ],
      "metadata": {
        "id": "lEDPyj3IBCra",
        "colab": {
          "base_uri": "https://localhost:8080/"
        },
        "outputId": "a6367f67-2628-42be-e616-28c43f1b7377"
      },
      "execution_count": null,
      "outputs": [
        {
          "output_type": "execute_result",
          "data": {
            "text/plain": [
              "<KeysViewHDF5 ['Data', 'Labels']>"
            ]
          },
          "metadata": {},
          "execution_count": 4
        }
      ]
    },
    {
      "cell_type": "code",
      "source": [
        "import numpy as np\n",
        " \n",
        "X = np.transpose(np.array(data['Data']))\n",
        "Y = np.reshape(np.array(data['Labels']),[-1,])\n",
        "Xm = np.reshape(X,[len(X),3, 1024,1])\n",
        " \n",
        "print(Xm.shape)\n",
        "print(Y.shape)\n",
        "Y = Y - 1\n",
        "Y = Y.astype(np.int32)\n",
        "Y.dtype"
      ],
      "metadata": {
        "id": "rFRnVuWiBPiT",
        "colab": {
          "base_uri": "https://localhost:8080/"
        },
        "outputId": "ada94d5e-a178-43d3-f5e6-13df3e1db3e8"
      },
      "execution_count": null,
      "outputs": [
        {
          "output_type": "stream",
          "name": "stdout",
          "text": [
            "(45000, 3, 1024, 1)\n",
            "(45000,)\n"
          ]
        },
        {
          "output_type": "execute_result",
          "data": {
            "text/plain": [
              "dtype('int32')"
            ]
          },
          "metadata": {},
          "execution_count": 5
        }
      ]
    },
    {
      "cell_type": "code",
      "source": [
        "from sklearn.model_selection import train_test_split\n",
        " \n",
        "X_train, X_test, Y_train, Y_test = train_test_split(Xm, Y, test_size=0.1)"
      ],
      "metadata": {
        "id": "FKarH8XbBe3S"
      },
      "execution_count": null,
      "outputs": []
    },
    {
      "cell_type": "code",
      "source": [
        "input_shape = (1024,1)"
      ],
      "metadata": {
        "id": "QMiKoDryOoqu"
      },
      "execution_count": null,
      "outputs": []
    },
    {
      "cell_type": "code",
      "source": [
        "import tensorflow as tf\n",
        "from tensorflow import keras\n",
        "from tensorflow.keras import layers, models\n",
        "from keras.layers.merge import concatenate\n",
        "from keras.utils.vis_utils import plot_model\n",
        " \n",
        "# define the model\n",
        "def define_model(input_shape, num_channels):\n",
        "    flat_layers = []\n",
        "    input_layers = []\n",
        "    ksize = 7\n",
        "    psize = 5\n",
        "    for i in range(num_channels):\n",
        "      inputs = layers.Input(shape=(input_shape))\n",
        "      #x = layers.BatchNormalization()(inputs)\n",
        " \n",
        "      x = layers.Conv1D(filters=32,kernel_size=ksize, activation='relu')(inputs)\n",
        "      x = layers.MaxPooling1D(psize)(x)\n",
        "      x = layers.Conv1D(filters=48,kernel_size=ksize, activation='relu')(x)\n",
        "      x = layers.Conv1D(filters=64,kernel_size=ksize, activation='relu')(x)\n",
        "      x = layers.MaxPooling1D(psize)(x)\n",
        "      x = layers.Conv1D(filters=32,kernel_size=ksize, activation='relu')(x)\n",
        "      x = layers.Conv1D(filters=128,kernel_size=ksize, activation='relu')(x)\n",
        "      x = layers.MaxPooling1D(psize)(x)\n",
        "\n",
        "      #x = layers.Dropout(0.1)(x)\n",
        "      flat = layers.Flatten()(x)\n",
        "      #flat = layers.Dense(256, activation='relu')(x)\n",
        " \n",
        "      flat_layers.append(flat)\n",
        "      input_layers.append(inputs)\n",
        "   \n",
        "    # merge\n",
        "    merged = concatenate(flat_layers)\n",
        "    # interpretation\n",
        "    #y = layers.Dense(1024, activation='relu')(merged)\n",
        "    # y = layers.BatchNormalization()(merged)\n",
        "    # y = layers.Dense(64, activation='relu')(y)\n",
        "    # y = layers.Dropout(0.5)(y)\n",
        "    # y = layers.Dense(16, activation='relu')(y)\n",
        "    #outputs = layers.Dense(64, activation='relu')(merged)\n",
        "    output = layers.Dense(9, activation='softmax')(merged)\n",
        "    model = models.Model(inputs=input_layers, outputs=output)\n",
        "    # compile\n",
        "    model.compile(loss = tf.keras.losses.sparse_categorical_crossentropy,\n",
        "                  optimizer = tf.keras.optimizers.Adam(), metrics = ['accuracy'])\n",
        "    # summarize\n",
        "    print(model.summary())\n",
        "    plot_model(model, show_shapes=True, to_file='multichannel.png')\n",
        "    return model"
      ],
      "metadata": {
        "id": "FQQCADbDB2EG"
      },
      "execution_count": null,
      "outputs": []
    },
    {
      "cell_type": "code",
      "source": [
        "model = define_model(input_shape, 3)"
      ],
      "metadata": {
        "id": "SYxMcNgRCTbb",
        "colab": {
          "base_uri": "https://localhost:8080/"
        },
        "outputId": "be7631c2-980a-4bd4-df9a-6d880368bf93"
      },
      "execution_count": null,
      "outputs": [
        {
          "output_type": "stream",
          "name": "stdout",
          "text": [
            "Model: \"model\"\n",
            "__________________________________________________________________________________________________\n",
            " Layer (type)                   Output Shape         Param #     Connected to                     \n",
            "==================================================================================================\n",
            " input_1 (InputLayer)           [(None, 1024, 1)]    0           []                               \n",
            "                                                                                                  \n",
            " input_2 (InputLayer)           [(None, 1024, 1)]    0           []                               \n",
            "                                                                                                  \n",
            " input_3 (InputLayer)           [(None, 1024, 1)]    0           []                               \n",
            "                                                                                                  \n",
            " conv1d (Conv1D)                (None, 1018, 32)     256         ['input_1[0][0]']                \n",
            "                                                                                                  \n",
            " conv1d_5 (Conv1D)              (None, 1018, 32)     256         ['input_2[0][0]']                \n",
            "                                                                                                  \n",
            " conv1d_10 (Conv1D)             (None, 1018, 32)     256         ['input_3[0][0]']                \n",
            "                                                                                                  \n",
            " max_pooling1d (MaxPooling1D)   (None, 203, 32)      0           ['conv1d[0][0]']                 \n",
            "                                                                                                  \n",
            " max_pooling1d_3 (MaxPooling1D)  (None, 203, 32)     0           ['conv1d_5[0][0]']               \n",
            "                                                                                                  \n",
            " max_pooling1d_6 (MaxPooling1D)  (None, 203, 32)     0           ['conv1d_10[0][0]']              \n",
            "                                                                                                  \n",
            " conv1d_1 (Conv1D)              (None, 197, 48)      10800       ['max_pooling1d[0][0]']          \n",
            "                                                                                                  \n",
            " conv1d_6 (Conv1D)              (None, 197, 48)      10800       ['max_pooling1d_3[0][0]']        \n",
            "                                                                                                  \n",
            " conv1d_11 (Conv1D)             (None, 197, 48)      10800       ['max_pooling1d_6[0][0]']        \n",
            "                                                                                                  \n",
            " conv1d_2 (Conv1D)              (None, 191, 64)      21568       ['conv1d_1[0][0]']               \n",
            "                                                                                                  \n",
            " conv1d_7 (Conv1D)              (None, 191, 64)      21568       ['conv1d_6[0][0]']               \n",
            "                                                                                                  \n",
            " conv1d_12 (Conv1D)             (None, 191, 64)      21568       ['conv1d_11[0][0]']              \n",
            "                                                                                                  \n",
            " max_pooling1d_1 (MaxPooling1D)  (None, 38, 64)      0           ['conv1d_2[0][0]']               \n",
            "                                                                                                  \n",
            " max_pooling1d_4 (MaxPooling1D)  (None, 38, 64)      0           ['conv1d_7[0][0]']               \n",
            "                                                                                                  \n",
            " max_pooling1d_7 (MaxPooling1D)  (None, 38, 64)      0           ['conv1d_12[0][0]']              \n",
            "                                                                                                  \n",
            " conv1d_3 (Conv1D)              (None, 32, 32)       14368       ['max_pooling1d_1[0][0]']        \n",
            "                                                                                                  \n",
            " conv1d_8 (Conv1D)              (None, 32, 32)       14368       ['max_pooling1d_4[0][0]']        \n",
            "                                                                                                  \n",
            " conv1d_13 (Conv1D)             (None, 32, 32)       14368       ['max_pooling1d_7[0][0]']        \n",
            "                                                                                                  \n",
            " conv1d_4 (Conv1D)              (None, 26, 128)      28800       ['conv1d_3[0][0]']               \n",
            "                                                                                                  \n",
            " conv1d_9 (Conv1D)              (None, 26, 128)      28800       ['conv1d_8[0][0]']               \n",
            "                                                                                                  \n",
            " conv1d_14 (Conv1D)             (None, 26, 128)      28800       ['conv1d_13[0][0]']              \n",
            "                                                                                                  \n",
            " max_pooling1d_2 (MaxPooling1D)  (None, 5, 128)      0           ['conv1d_4[0][0]']               \n",
            "                                                                                                  \n",
            " max_pooling1d_5 (MaxPooling1D)  (None, 5, 128)      0           ['conv1d_9[0][0]']               \n",
            "                                                                                                  \n",
            " max_pooling1d_8 (MaxPooling1D)  (None, 5, 128)      0           ['conv1d_14[0][0]']              \n",
            "                                                                                                  \n",
            " flatten (Flatten)              (None, 640)          0           ['max_pooling1d_2[0][0]']        \n",
            "                                                                                                  \n",
            " flatten_1 (Flatten)            (None, 640)          0           ['max_pooling1d_5[0][0]']        \n",
            "                                                                                                  \n",
            " flatten_2 (Flatten)            (None, 640)          0           ['max_pooling1d_8[0][0]']        \n",
            "                                                                                                  \n",
            " concatenate (Concatenate)      (None, 1920)         0           ['flatten[0][0]',                \n",
            "                                                                  'flatten_1[0][0]',              \n",
            "                                                                  'flatten_2[0][0]']              \n",
            "                                                                                                  \n",
            " dense (Dense)                  (None, 9)            17289       ['concatenate[0][0]']            \n",
            "                                                                                                  \n",
            "==================================================================================================\n",
            "Total params: 244,665\n",
            "Trainable params: 244,665\n",
            "Non-trainable params: 0\n",
            "__________________________________________________________________________________________________\n",
            "None\n"
          ]
        }
      ]
    },
    {
      "cell_type": "code",
      "source": [
        "X_tr = []\n",
        "X_te = []\n",
        " \n",
        "for i in range(3):\n",
        "  X_tr.append(X_train[:,i,:,:])\n",
        "  X_te.append(X_test[:,i,:,:])"
      ],
      "metadata": {
        "id": "SWRUhQFACZpu"
      },
      "execution_count": null,
      "outputs": []
    },
    {
      "cell_type": "code",
      "source": [
        "X_tr[0].shape"
      ],
      "metadata": {
        "id": "NLdDhRmnWIoX",
        "colab": {
          "base_uri": "https://localhost:8080/"
        },
        "outputId": "5f4bad04-3390-4153-90b7-f70105b3628f"
      },
      "execution_count": null,
      "outputs": [
        {
          "output_type": "execute_result",
          "data": {
            "text/plain": [
              "(40500, 1024, 1)"
            ]
          },
          "metadata": {},
          "execution_count": 12
        }
      ]
    },
    {
      "cell_type": "code",
      "source": [
        "history = model.fit(X_tr, Y_train, epochs= 50, shuffle = True,  use_multiprocessing = True,batch_size=128,\n",
        "                    validation_split=0.10)"
      ],
      "metadata": {
        "id": "4syBi73EC5bb",
        "colab": {
          "base_uri": "https://localhost:8080/"
        },
        "outputId": "08fde3b5-e7d1-4d68-d102-8ac2d4a76380"
      },
      "execution_count": null,
      "outputs": [
        {
          "output_type": "stream",
          "name": "stdout",
          "text": [
            "Epoch 1/50\n",
            "285/285 [==============================] - 14s 35ms/step - loss: 1.2260 - accuracy: 0.5252 - val_loss: 0.5967 - val_accuracy: 0.7820\n",
            "Epoch 2/50\n",
            "285/285 [==============================] - 7s 24ms/step - loss: 0.4290 - accuracy: 0.8403 - val_loss: 0.2545 - val_accuracy: 0.9037\n",
            "Epoch 3/50\n",
            "285/285 [==============================] - 7s 24ms/step - loss: 0.2065 - accuracy: 0.9263 - val_loss: 0.1587 - val_accuracy: 0.9412\n",
            "Epoch 4/50\n",
            "285/285 [==============================] - 7s 24ms/step - loss: 0.1231 - accuracy: 0.9566 - val_loss: 0.0725 - val_accuracy: 0.9746\n",
            "Epoch 5/50\n",
            "285/285 [==============================] - 7s 25ms/step - loss: 0.0895 - accuracy: 0.9680 - val_loss: 0.0508 - val_accuracy: 0.9815\n",
            "Epoch 6/50\n",
            "285/285 [==============================] - 7s 25ms/step - loss: 0.0720 - accuracy: 0.9758 - val_loss: 0.0754 - val_accuracy: 0.9733\n",
            "Epoch 7/50\n",
            "285/285 [==============================] - 7s 24ms/step - loss: 0.0485 - accuracy: 0.9827 - val_loss: 0.0478 - val_accuracy: 0.9840\n",
            "Epoch 8/50\n",
            "285/285 [==============================] - 7s 24ms/step - loss: 0.0449 - accuracy: 0.9848 - val_loss: 0.0374 - val_accuracy: 0.9869\n",
            "Epoch 9/50\n",
            "285/285 [==============================] - 7s 24ms/step - loss: 0.0242 - accuracy: 0.9921 - val_loss: 0.0197 - val_accuracy: 0.9931\n",
            "Epoch 10/50\n",
            "285/285 [==============================] - 7s 24ms/step - loss: 0.0432 - accuracy: 0.9857 - val_loss: 0.0300 - val_accuracy: 0.9886\n",
            "Epoch 11/50\n",
            "285/285 [==============================] - 8s 27ms/step - loss: 0.0362 - accuracy: 0.9883 - val_loss: 0.0868 - val_accuracy: 0.9726\n",
            "Epoch 12/50\n",
            "285/285 [==============================] - 7s 24ms/step - loss: 0.0200 - accuracy: 0.9932 - val_loss: 0.0152 - val_accuracy: 0.9951\n",
            "Epoch 13/50\n",
            "285/285 [==============================] - 7s 24ms/step - loss: 0.0330 - accuracy: 0.9892 - val_loss: 0.0961 - val_accuracy: 0.9726\n",
            "Epoch 14/50\n",
            "285/285 [==============================] - 7s 24ms/step - loss: 0.0165 - accuracy: 0.9951 - val_loss: 0.0358 - val_accuracy: 0.9879\n",
            "Epoch 15/50\n",
            "285/285 [==============================] - 7s 24ms/step - loss: 0.0371 - accuracy: 0.9891 - val_loss: 0.1082 - val_accuracy: 0.9696\n",
            "Epoch 16/50\n",
            "285/285 [==============================] - 7s 24ms/step - loss: 0.0231 - accuracy: 0.9925 - val_loss: 0.0097 - val_accuracy: 0.9975\n",
            "Epoch 17/50\n",
            "285/285 [==============================] - 7s 24ms/step - loss: 0.0214 - accuracy: 0.9931 - val_loss: 0.0337 - val_accuracy: 0.9926\n",
            "Epoch 18/50\n",
            "285/285 [==============================] - 7s 24ms/step - loss: 0.0189 - accuracy: 0.9944 - val_loss: 0.0286 - val_accuracy: 0.9886\n",
            "Epoch 19/50\n",
            "285/285 [==============================] - 7s 24ms/step - loss: 0.0180 - accuracy: 0.9943 - val_loss: 0.0134 - val_accuracy: 0.9953\n",
            "Epoch 20/50\n",
            "285/285 [==============================] - 7s 24ms/step - loss: 0.0216 - accuracy: 0.9933 - val_loss: 0.2716 - val_accuracy: 0.9365\n",
            "Epoch 21/50\n",
            "285/285 [==============================] - 7s 25ms/step - loss: 0.0280 - accuracy: 0.9914 - val_loss: 0.0050 - val_accuracy: 0.9978\n",
            "Epoch 22/50\n",
            "285/285 [==============================] - 7s 24ms/step - loss: 0.0023 - accuracy: 0.9994 - val_loss: 0.0054 - val_accuracy: 0.9985\n",
            "Epoch 23/50\n",
            "285/285 [==============================] - 7s 24ms/step - loss: 0.0255 - accuracy: 0.9926 - val_loss: 0.0027 - val_accuracy: 0.9995\n",
            "Epoch 24/50\n",
            "285/285 [==============================] - 7s 24ms/step - loss: 6.7752e-04 - accuracy: 1.0000 - val_loss: 0.0011 - val_accuracy: 1.0000\n",
            "Epoch 25/50\n",
            "285/285 [==============================] - 7s 24ms/step - loss: 1.6411e-04 - accuracy: 1.0000 - val_loss: 7.5590e-04 - val_accuracy: 1.0000\n",
            "Epoch 26/50\n",
            "285/285 [==============================] - 7s 24ms/step - loss: 1.2518e-04 - accuracy: 1.0000 - val_loss: 8.7555e-04 - val_accuracy: 0.9998\n",
            "Epoch 27/50\n",
            "285/285 [==============================] - 7s 24ms/step - loss: 8.1239e-05 - accuracy: 1.0000 - val_loss: 7.3849e-04 - val_accuracy: 0.9995\n",
            "Epoch 28/50\n",
            "285/285 [==============================] - 7s 24ms/step - loss: 6.3154e-05 - accuracy: 1.0000 - val_loss: 5.0063e-04 - val_accuracy: 1.0000\n",
            "Epoch 29/50\n",
            "285/285 [==============================] - 7s 24ms/step - loss: 4.8758e-05 - accuracy: 1.0000 - val_loss: 4.5167e-04 - val_accuracy: 1.0000\n",
            "Epoch 30/50\n",
            "285/285 [==============================] - 7s 24ms/step - loss: 4.1045e-05 - accuracy: 1.0000 - val_loss: 4.1974e-04 - val_accuracy: 1.0000\n",
            "Epoch 31/50\n",
            "285/285 [==============================] - 7s 24ms/step - loss: 3.8538e-05 - accuracy: 1.0000 - val_loss: 3.3817e-04 - val_accuracy: 1.0000\n",
            "Epoch 32/50\n",
            "285/285 [==============================] - 7s 24ms/step - loss: 2.5601e-05 - accuracy: 1.0000 - val_loss: 3.4684e-04 - val_accuracy: 1.0000\n",
            "Epoch 33/50\n",
            "285/285 [==============================] - 7s 24ms/step - loss: 2.1573e-05 - accuracy: 1.0000 - val_loss: 3.2527e-04 - val_accuracy: 1.0000\n",
            "Epoch 34/50\n",
            "285/285 [==============================] - 7s 24ms/step - loss: 1.7383e-05 - accuracy: 1.0000 - val_loss: 3.4539e-04 - val_accuracy: 1.0000\n",
            "Epoch 35/50\n",
            "285/285 [==============================] - 7s 24ms/step - loss: 1.5020e-05 - accuracy: 1.0000 - val_loss: 3.0168e-04 - val_accuracy: 1.0000\n",
            "Epoch 36/50\n",
            "285/285 [==============================] - 7s 24ms/step - loss: 1.2407e-05 - accuracy: 1.0000 - val_loss: 3.5560e-04 - val_accuracy: 1.0000\n",
            "Epoch 37/50\n",
            "285/285 [==============================] - 7s 25ms/step - loss: 1.0578e-05 - accuracy: 1.0000 - val_loss: 3.5024e-04 - val_accuracy: 1.0000\n",
            "Epoch 38/50\n",
            "285/285 [==============================] - 7s 24ms/step - loss: 8.8971e-06 - accuracy: 1.0000 - val_loss: 3.5124e-04 - val_accuracy: 1.0000\n",
            "Epoch 39/50\n",
            "285/285 [==============================] - 7s 24ms/step - loss: 7.5364e-06 - accuracy: 1.0000 - val_loss: 4.1867e-04 - val_accuracy: 0.9998\n",
            "Epoch 40/50\n",
            "285/285 [==============================] - 7s 24ms/step - loss: 6.3446e-06 - accuracy: 1.0000 - val_loss: 3.7307e-04 - val_accuracy: 0.9998\n",
            "Epoch 41/50\n",
            "285/285 [==============================] - 7s 24ms/step - loss: 5.2833e-06 - accuracy: 1.0000 - val_loss: 3.8915e-04 - val_accuracy: 0.9998\n",
            "Epoch 42/50\n",
            "285/285 [==============================] - 7s 24ms/step - loss: 4.4870e-06 - accuracy: 1.0000 - val_loss: 3.7827e-04 - val_accuracy: 0.9998\n",
            "Epoch 43/50\n",
            "285/285 [==============================] - 7s 24ms/step - loss: 3.7535e-06 - accuracy: 1.0000 - val_loss: 4.9429e-04 - val_accuracy: 0.9998\n",
            "Epoch 44/50\n",
            "285/285 [==============================] - 7s 24ms/step - loss: 3.2520e-06 - accuracy: 1.0000 - val_loss: 3.7325e-04 - val_accuracy: 0.9998\n",
            "Epoch 45/50\n",
            "285/285 [==============================] - 7s 24ms/step - loss: 2.8108e-06 - accuracy: 1.0000 - val_loss: 5.7571e-04 - val_accuracy: 0.9998\n",
            "Epoch 46/50\n",
            "285/285 [==============================] - 7s 24ms/step - loss: 2.3201e-06 - accuracy: 1.0000 - val_loss: 5.9636e-04 - val_accuracy: 0.9998\n",
            "Epoch 47/50\n",
            "285/285 [==============================] - 7s 24ms/step - loss: 2.0696e-06 - accuracy: 1.0000 - val_loss: 4.8120e-04 - val_accuracy: 0.9998\n",
            "Epoch 48/50\n",
            "285/285 [==============================] - 7s 24ms/step - loss: 1.7316e-06 - accuracy: 1.0000 - val_loss: 5.6142e-04 - val_accuracy: 0.9998\n",
            "Epoch 49/50\n",
            "285/285 [==============================] - 7s 24ms/step - loss: 1.4288e-06 - accuracy: 1.0000 - val_loss: 6.1326e-04 - val_accuracy: 0.9998\n",
            "Epoch 50/50\n",
            "285/285 [==============================] - 7s 24ms/step - loss: 1.2425e-06 - accuracy: 1.0000 - val_loss: 7.6328e-04 - val_accuracy: 0.9998\n"
          ]
        }
      ]
    },
    {
      "cell_type": "code",
      "source": [
        "plt.plot(history.history['accuracy'], label='train_accuracy',C=\"m\")\n",
        "plt.plot(history.history['val_accuracy'], label = 'validation_accuracy',C=\"skyblue\")\n",
        "plt.xlabel('Epoch')\n",
        "plt.ylabel('Accuracy')\n",
        "plt.ylim([0, 1])\n",
        "plt.legend(loc='lower right')\n",
        "plt.show()\n",
        "#plt.savefig('/content/drive/MyDrive/Radal_models/Radar_Accyracy.png')"
      ],
      "metadata": {
        "id": "6eajte_QDSHR",
        "colab": {
          "base_uri": "https://localhost:8080/",
          "height": 283
        },
        "outputId": "41167a02-c8fb-4594-bfe5-ab2e4f3cd96e"
      },
      "execution_count": null,
      "outputs": [
        {
          "output_type": "display_data",
          "data": {
            "text/plain": [
              "<Figure size 432x288 with 1 Axes>"
            ],
            "image/png": "[encoded data removed]"
          },
          "metadata": {
            "needs_background": "light"
          }
        }
      ]
    },
    {
      "cell_type": "code",
      "source": [
        "plt.plot(history.history['loss'], label='train_loss',C='r')\n",
        "plt.plot(history.history['val_loss'], label = 'validation_loss',C=\"darkgreen\")\n",
        "plt.xlabel('Epoch')\n",
        "plt.ylabel('loss')\n",
        "plt.legend(loc='upper right')\n",
        "plt.show()"
      ],
      "metadata": {
        "id": "4i4ZRO_nDT93",
        "colab": {
          "base_uri": "https://localhost:8080/",
          "height": 279
        },
        "outputId": "da103e0b-9763-4c41-9998-526300356dee"
      },
      "execution_count": null,
      "outputs": [
        {
          "output_type": "display_data",
          "data": {
            "text/plain": [
              "<Figure size 432x288 with 1 Axes>"
            ],
            "image/png": "[encoded data removed]"
          },
          "metadata": {
            "needs_background": "light"
          }
        }
      ]
    },
    {
      "cell_type": "code",
      "source": [
        "import pandas as pd\n",
        "import seaborn as sns\n",
        "from sklearn import metrics \n",
        "from sklearn.metrics import classification_report\n",
        " \n",
        "test_loss, test_acc = model.evaluate(X_te,  Y_test, verbose=2)\n",
        "Y_te = np.array(tf.math.argmax(model.predict(X_te), 1))\n",
        "cm = tf.math.confusion_matrix(Y_test, Y_te)\n",
        " \n",
        " \n",
        "acc = metrics.accuracy_score(Y_test, Y_te)\n",
        "print(\"test accuracy =\", acc*100,\"%\\n\")\n",
        " \n",
        "print(classification_report(Y_test, Y_te))\n",
        " \n",
        "con_mat = tf.math.confusion_matrix(labels=Y_test, predictions=Y_te).numpy()\n",
        " \n",
        "con_mat_norm = np.around(con_mat.astype('float') / con_mat.sum(axis=1)[:, np.newaxis], decimals=2)\n",
        "classes = [\"Barker\", \"Frank\", \"LFM\", \"P1\", \"P2\", \"P3\", \"P4\", \"Px\", \"Rect\"]\n",
        "con_mat_df = pd.DataFrame(con_mat_norm,\n",
        "                     index = classes, \n",
        "                     columns = classes)\n",
        "figure = plt.figure()\n",
        "sns.heatmap(con_mat_df, annot=True, cmap=\"YlOrBr\")\n",
        "plt.tight_layout()\n",
        "plt.title('Convolution Neural Newtork')\n",
        "plt.ylabel('True label')\n",
        "plt.xlabel('Predicted label')\n",
        "plt.show()"
      ],
      "metadata": {
        "id": "9pV78Gc7DWZo",
        "colab": {
          "base_uri": "https://localhost:8080/",
          "height": 653
        },
        "outputId": "a4b4f4f8-7965-4a74-eda4-7dfd1f781a13"
      },
      "execution_count": null,
      "outputs": [
        {
          "output_type": "stream",
          "name": "stdout",
          "text": [
            "141/141 - 2s - loss: 9.6975e-04 - accuracy: 0.9998 - 2s/epoch - 11ms/step\n",
            "test accuracy = 99.97777777777777 %\n",
            "\n",
            "              precision    recall  f1-score   support\n",
            "\n",
            "           0       1.00      1.00      1.00       494\n",
            "           1       1.00      1.00      1.00       494\n",
            "           2       1.00      1.00      1.00       483\n",
            "           3       1.00      1.00      1.00       512\n",
            "           4       1.00      1.00      1.00       500\n",
            "           5       1.00      1.00      1.00       504\n",
            "           6       1.00      1.00      1.00       515\n",
            "           7       1.00      1.00      1.00       528\n",
            "           8       1.00      1.00      1.00       470\n",
            "\n",
            "    accuracy                           1.00      4500\n",
            "   macro avg       1.00      1.00      1.00      4500\n",
            "weighted avg       1.00      1.00      1.00      4500\n",
            "\n"
          ]
        },
        {
          "output_type": "display_data",
          "data": {
            "text/plain": [
              "<Figure size 432x288 with 2 Axes>"
            ],
            "image/png": "[encoded data removed]"
          },
          "metadata": {
            "needs_background": "light"
          }
        }
      ]
    },
    {
      "cell_type": "code",
      "source": [
        "#model.save(\"/content/drive/MyDrive/Radar/Radar_5000.h5\")"
      ],
      "metadata": {
        "id": "5BViwLTHEkuf"
      },
      "execution_count": null,
      "outputs": []
    }
  ]
}